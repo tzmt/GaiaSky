{
 "cells": [
  {
   "cell_type": "markdown",
   "metadata": {},
   "source": [
    "# Gaia Project : Team 1 & 3"
   ]
  },
  {
   "cell_type": "markdown",
   "metadata": {},
   "source": [
    "##### FAIVRE Maxime | ABDELOUHAB Mohand | RITFELD Remco | MANDRAUD Gabriel \n",
    "##### JONGMA Maricio | OSSENI Yoan | LE BORGNE Kevin | BENZAKOUR Hicham"
   ]
  },
  {
   "cell_type": "markdown",
   "metadata": {},
   "source": [
    "# 1) Running Python Script in Gaia"
   ]
  },
  {
   "cell_type": "markdown",
   "metadata": {},
   "source": [
    "The first step for running script in Gaia is to import API of Gaia Sky.\n",
    "<p>You can insert this line at the beggining of your script : </p>"
   ]
  },
  {
   "cell_type": "code",
   "execution_count": null,
   "metadata": {
    "collapsed": true
   },
   "outputs": [],
   "source": [
    "from gaia.cu9.ari.gaiaorbit.script import EventScriptingInterface"
   ]
  },
  {
   "cell_type": "markdown",
   "metadata": {},
   "source": [
    "#### This Python library provides us with an interface to use some functions for controling the camera\n",
    "<p>Now you can get the instance of the interface : </p>"
   ]
  },
  {
   "cell_type": "code",
   "execution_count": null,
   "metadata": {
    "collapsed": true
   },
   "outputs": [],
   "source": [
    "gs = EventScriptingInterface.instance()"
   ]
  },
  {
   "cell_type": "markdown",
   "metadata": {},
   "source": [
    "In this way, you can use all functions that you can find in the file called <b>IScriptingInterface.java</b>.\n",
    "\n",
    "Most of time, this file is in Gaia project folder, more precisely in <b> gaiasky/core/src/gaia/cu9/ari/gaiaorbit/script/</b>"
   ]
  },
  {
   "cell_type": "markdown",
   "metadata": {},
   "source": [
    "![image.png](img/java_interface.png)"
   ]
  },
  {
   "cell_type": "markdown",
   "metadata": {},
   "source": [
    "### In Gaia Sky Application, you can run Python script by the followed user interface.\n",
    "\n",
    "Your script have to be in the followed folder (your main directory) : <b> Users/your_username/.gaiasky/script</b>"
   ]
  },
  {
   "cell_type": "markdown",
   "metadata": {},
   "source": [
    "![image.png](img/folder.png)"
   ]
  },
  {
   "cell_type": "markdown",
   "metadata": {},
   "source": [
    "### After, you can run your script thanks the interface of Gaia by clicking on the car icon.\n",
    "\n"
   ]
  },
  {
   "cell_type": "markdown",
   "metadata": {},
   "source": [
    "![image.png](img/control.png)"
   ]
  },
  {
   "cell_type": "markdown",
   "metadata": {},
   "source": [
    "### Then, you can run your Python script"
   ]
  },
  {
   "cell_type": "markdown",
   "metadata": {},
   "source": [
    "![image.png](img/script.png)"
   ]
  },
  {
   "cell_type": "markdown",
   "metadata": {},
   "source": [
    "## Our function"
   ]
  },
  {
   "cell_type": "markdown",
   "metadata": {},
   "source": [
    "We have defined a function that allows us to present a planet"
   ]
  },
  {
   "cell_type": "code",
   "execution_count": 5,
   "metadata": {
    "collapsed": true
   },
   "outputs": [],
   "source": [
    "def present_planet(name,description,angle): \n",
    "\tgs.goToObject(name, angle,20)\n",
    "\tgs.setHeadlineMessage(name)\n",
    "\tgs.setSubheadMessage(description)\n",
    "\tgs.waitForInput()\n",
    "\tgs.clearAllMessages()\n"
   ]
  },
  {
   "cell_type": "markdown",
   "metadata": {},
   "source": [
    "This function go to the object, then show his name and his description.\n",
    "\n",
    "After get an input, it's clear all messages"
   ]
  },
  {
   "cell_type": "markdown",
   "metadata": {},
   "source": [
    "* An example with Earth : "
   ]
  },
  {
   "cell_type": "code",
   "execution_count": null,
   "metadata": {
    "collapsed": true
   },
   "outputs": [],
   "source": [
    "present_planet(\"Earth\",\"\"\"\n",
    "This is a planet of system solar\n",
    "\t\"\"\",-15)"
   ]
  },
  {
   "cell_type": "markdown",
   "metadata": {
    "collapsed": true
   },
   "source": [
    "## Some useful functions"
   ]
  },
  {
   "cell_type": "markdown",
   "metadata": {},
   "source": [
    "- To go to object"
   ]
  },
  {
   "cell_type": "code",
   "execution_count": null,
   "metadata": {
    "collapsed": true
   },
   "outputs": [],
   "source": [
    "gs.ToObject(\"name of planets\",angleOfView,sleep)"
   ]
  },
  {
   "cell_type": "markdown",
   "metadata": {},
   "source": [
    "- Display head text"
   ]
  },
  {
   "cell_type": "code",
   "execution_count": null,
   "metadata": {
    "collapsed": true
   },
   "outputs": [],
   "source": [
    "gs.setHeadlineMessage(\"Enter your text here\")"
   ]
  },
  {
   "cell_type": "markdown",
   "metadata": {},
   "source": [
    "- Display sub text"
   ]
  },
  {
   "cell_type": "code",
   "execution_count": null,
   "metadata": {
    "collapsed": true
   },
   "outputs": [],
   "source": [
    "gs.setSubheadMessage(\"Enter your text here\")"
   ]
  },
  {
   "cell_type": "markdown",
   "metadata": {},
   "source": [
    "- Sleep until get an input(keyboard or click)"
   ]
  },
  {
   "cell_type": "code",
   "execution_count": null,
   "metadata": {
    "collapsed": true
   },
   "outputs": [],
   "source": [
    "gs.waitForInput()"
   ]
  },
  {
   "cell_type": "markdown",
   "metadata": {},
   "source": [
    "- Clear all messages on screen"
   ]
  },
  {
   "cell_type": "code",
   "execution_count": null,
   "metadata": {
    "collapsed": true
   },
   "outputs": [],
   "source": [
    "gs.clearAllMessages()"
   ]
  },
  {
   "cell_type": "markdown",
   "metadata": {},
   "source": [
    "# 2) How to add new catalogs of data to Gaia Sky"
   ]
  },
  {
   "cell_type": "markdown",
   "metadata": {},
   "source": [
    "## The first step is to go to download the data of Gaia on this website : [Zentrum Für Astronomie](https://zah.uni-heidelberg.de/institutes/ari/gaia/outreach/gaiasky/downloads/)"
   ]
  },
  {
   "cell_type": "markdown",
   "metadata": {},
   "source": [
    "These data sets are ordered by size and can be found in  **\"Additional Gaia DR2 catalogs\"** section.\n",
    "\n",
    "You need two files : \n",
    "- Data, that you have to put in :\n",
    ">**$GAIASKY_INSTALL_DIR/data/octree/dr2/**\n",
    "- Catalog descriptor, that you have to put in :\n",
    "\n",
    " >**$GAIASKY_INSTALL_DIR/data**"
   ]
  },
  {
   "cell_type": "markdown",
   "metadata": {},
   "source": [
    "** What you can see : **![gaia_data.png](img/Gaia_data.png)"
   ]
  },
  {
   "cell_type": "markdown",
   "metadata": {},
   "source": [
    "> ### Note\n",
    "> <p>Sometimes, the path of files in catalog isn't the right.</p>\n",
    "> You have to check if the path matches with your data in the json file.\n",
    ">\n",
    ">\n",
    ">>![image.png](img/path.png)\n"
   ]
  },
  {
   "cell_type": "markdown",
   "metadata": {
    "collapsed": true
   },
   "source": [
    "### Then, go to the preference of Gaia Sky Application to set the new catalogue. Don't forget to restart Gaia Sky."
   ]
  },
  {
   "cell_type": "code",
   "execution_count": null,
   "metadata": {
    "collapsed": true
   },
   "outputs": [],
   "source": []
  }
 ],
 "metadata": {
  "kernelspec": {
   "display_name": "Python 3",
   "language": "python",
   "name": "python3"
  },
  "language_info": {
   "codemirror_mode": {
    "name": "ipython",
    "version": 3
   },
   "file_extension": ".py",
   "mimetype": "text/x-python",
   "name": "python",
   "nbconvert_exporter": "python",
   "pygments_lexer": "ipython3",
   "version": "3.6.3"
  }
 },
 "nbformat": 4,
 "nbformat_minor": 2
}
